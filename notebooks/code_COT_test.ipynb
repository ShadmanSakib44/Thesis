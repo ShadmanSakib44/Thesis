{
 "cells": [
  {
   "cell_type": "code",
   "execution_count": 1,
   "metadata": {},
   "outputs": [],
   "source": [
    "import requests \n",
    "import json\n",
    "import pandas as pd "
   ]
  },
  {
   "cell_type": "code",
   "execution_count": 4,
   "metadata": {},
   "outputs": [],
   "source": [
    "def get_response_from_server(prompt, model=\"phi4\"): # llama2 is the model name for the Llama model\n",
    "    # Define the URL for the POST request\n",
    "    url = \"http://localhost:11434/api/chat\"\n",
    "    \n",
    "    # Payload for the POST request\n",
    "    payload = {\n",
    "        \"model\": model,\n",
    "        \"messages\": [\n",
    "            {\"role\": \"user\", \"content\": prompt}\n",
    "        ]\n",
    "    }\n",
    "    \n",
    "    try:\n",
    "        # Send a POST request to the /api/chat endpoint with streaming enabled\n",
    "        response = requests.post(url, json=payload, stream=True)\n",
    "        \n",
    "        # Check if the response status is OK\n",
    "        if response.status_code == 200:\n",
    "            complete_response = \"\"\n",
    "            for line in response.iter_lines():\n",
    "                if line:  # Ignore empty lines\n",
    "                    try:\n",
    "                        # Parse the JSON object\n",
    "                        chunk = json.loads(line)\n",
    "                        # Extract the \"content\" field and append it to the complete response\n",
    "                        if \"message\" in chunk and \"content\" in chunk[\"message\"]:\n",
    "                            complete_response += chunk[\"message\"][\"content\"]\n",
    "                    except (KeyError, json.JSONDecodeError) as e:\n",
    "                        # Handle cases where the line isn't valid JSON or lacks expected fields\n",
    "                        print(\"Warning: Skipped a line due to error -\", str(e), \"Line:\", line.decode(\"utf-8\"))\n",
    "            return complete_response\n",
    "        else:\n",
    "            # Handle error response status\n",
    "            return f\"Error: {response.status_code} - {response.text}\"\n",
    "    except requests.exceptions.RequestException as e:\n",
    "        # Handle any connection errors\n",
    "        print(\"Error connecting to the server:\", e)\n",
    "        return None\n"
   ]
  },
  {
   "cell_type": "code",
   "execution_count": null,
   "metadata": {},
   "outputs": [
    {
     "name": "stdout",
     "output_type": "stream",
     "text": [
      "Generating user story for review 1...\n",
      "Generating user story for review 2...\n",
      "Generating user story for review 3...\n"
     ]
    }
   ],
   "source": [
    "\n",
    "\n",
    "def generate_user_stories(input_file, output_file):\n",
    "    # Read the input Excel file\n",
    "    df = pd.read_excel(input_file)\n",
    "    \n",
    "    # Check if 'review_content' column exists\n",
    "    if 'review_content' not in df.columns:\n",
    "        print(\"Error: 'review_content' column not found in the input file.\")\n",
    "        return\n",
    "    \n",
    "    # Create a list to store user stories\n",
    "    user_stories = []\n",
    "    \n",
    "    # Iterate through each row and generate a user story for each review_content\n",
    "    for index, row in df.iterrows():\n",
    "        review_content = row['review_content']\n",
    "        \n",
    "        # Generate user story from review_content\n",
    "        print(f\"Generating user story for review {index + 1}...\")\n",
    "        user_story = get_response_from_server(f\"\"\"\n",
    "        To generate a detailed and thoughtful user story, consider the following step-by-step reasoning:\n",
    "\n",
    "        1. Understand the user: Who is the primary user, and what is their role or context? Why are they relevant to this feature or solution?\n",
    "        2. Identify the user's goals: What does the user aim to achieve? What is the specific task, need, or problem they are addressing?\n",
    "        3. Explore the user's motivations: Why is this goal important to them? How does achieving this goal benefit them or others?\n",
    "        4. Analyze the challenges: What obstacles or pain points does the user face that prevent them from achieving their goal easily?\n",
    "        5. Consider the solution: How can the proposed feature or product resolve these challenges? What specific functionality or improvement would address their needs?\n",
    "        6. Visualize success: What does success look like for the user? How will they feel or benefit once the solution is implemented?\n",
    "        7. Refine the story: Combine the insights from the above steps into a cohesive narrative that clearly outlines the user's needs, goals, and the solution.\n",
    "\n",
    "        Based on this reasoning, turn the following user review into a detailed and thoughtful 3-5 lines user story, focusing on the user's perspective. Highlight any functionalities or platform improvements mentioned. Make the user story concise and to the point (3-5 lines): {review_content}\n",
    "        \"\"\")\n",
    "\n",
    "        if user_story:\n",
    "            user_stories.append(user_story)\n",
    "        else:\n",
    "            user_stories.append(\"Error generating user story.\")\n",
    "    \n",
    "    # Add the generated user stories to the DataFrame\n",
    "    df['user_story'] = user_stories\n",
    "    \n",
    "    # Write the DataFrame with user stories to a new Excel file\n",
    "    df.to_excel(output_file, index=False)\n",
    "    print(f\"User stories generated and saved to {output_file}\")\n",
    "\n",
    "input_file = \"trail1.xlsx\"\n",
    "output_file = \"output_phi4_cpt.xlsx\"\n",
    "# Generate user stories\n",
    "generate_user_stories(input_file, output_file)\n"
   ]
  }
 ],
 "metadata": {
  "kernelspec": {
   "display_name": "base",
   "language": "python",
   "name": "python3"
  },
  "language_info": {
   "codemirror_mode": {
    "name": "ipython",
    "version": 3
   },
   "file_extension": ".py",
   "mimetype": "text/x-python",
   "name": "python",
   "nbconvert_exporter": "python",
   "pygments_lexer": "ipython3",
   "version": "3.11.3"
  }
 },
 "nbformat": 4,
 "nbformat_minor": 2
}
