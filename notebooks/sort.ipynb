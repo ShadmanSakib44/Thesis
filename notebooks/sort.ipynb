{
 "cells": [
  {
   "cell_type": "code",
   "execution_count": 4,
   "metadata": {},
   "outputs": [
    {
     "name": "stdout",
     "output_type": "stream",
     "text": [
      "              model                                             prompt  \\\n",
      "0  codellama:latest  Turn the following review into a concise user ...   \n",
      "1  codellama:latest  Based on the review below, create a user story...   \n",
      "2  codellama:latest  Generate a user story that summarizes the key ...   \n",
      "3  codellama:latest  Turn the following review into a concise user ...   \n",
      "4  codellama:latest  Based on the review below, create a user story...   \n",
      "\n",
      "   review_index                                     review_content  \\\n",
      "0             0  In addition to being notorious for it39s priva...   \n",
      "1             0  In addition to being notorious for it39s priva...   \n",
      "2             0  In addition to being notorious for it39s priva...   \n",
      "3             1  Ive been trying to get a hold of Facebook beca...   \n",
      "4             1  Ive been trying to get a hold of Facebook beca...   \n",
      "\n",
      "                                            response  \n",
      "0  As a user of Facebook, I want to be able to sh...  \n",
      "1  \\nAs a concerned citizen of Palestine, I want ...  \n",
      "2  \\nAs a user of Meta's social media platform, I...  \n",
      "3  \\nAs a user, I want to be able to access my Fa...  \n",
      "4  \\nAs a user who wants to access their Facebook...  \n"
     ]
    }
   ],
   "source": [
    "import pandas as pd\n",
    "\n",
    "# Load the CSV file\n",
    "file_path = r\"D:\\Research\\Thesis\\prompt_evaluation_results.csv\"  # Replace with your actual file path\n",
    "df = pd.read_csv(file_path)\n",
    "\n",
    "# Define the desired prompt order\n",
    "prompt_order = [\n",
    "    \"Turn the following review into a concise user story: {review}\",\n",
    "    \"Based on the review below, create a user story in the format: As a [User Role], I want [Goal] so that [Benefit]: {review}\",\n",
    "    \"Generate a user story that summarizes the key features or improvements requested in this review: {review}\"\n",
    "]\n",
    "\n",
    "# Assign a numeric order to the prompts\n",
    "df['prompt_order'] = df['prompt'].apply(lambda x: prompt_order.index(x) if x in prompt_order else -1)\n",
    "\n",
    "# Group by 'model' and 'review_index', and sort within each group by 'prompt_order'\n",
    "df_sorted = (\n",
    "    df.sort_values(by=['model', 'review_index', 'prompt_order'])\n",
    "    .drop(columns=['prompt_order'])\n",
    "    .reset_index(drop=True)\n",
    ")\n",
    "\n",
    "# Save the sorted dataframe to a new CSV file\n",
    "df_sorted.to_csv(r\"D:\\Research\\Thesis\\sorted_prompt_evaluation_results.csv\", index=False)\n",
    "\n",
    "# Display the first few rows of the sorted dataframe\n",
    "print(df_sorted.head())\n"
   ]
  },
  {
   "cell_type": "code",
   "execution_count": null,
   "metadata": {},
   "outputs": [],
   "source": []
  }
 ],
 "metadata": {
  "kernelspec": {
   "display_name": "Python 3",
   "language": "python",
   "name": "python3"
  },
  "language_info": {
   "codemirror_mode": {
    "name": "ipython",
    "version": 3
   },
   "file_extension": ".py",
   "mimetype": "text/x-python",
   "name": "python",
   "nbconvert_exporter": "python",
   "pygments_lexer": "ipython3",
   "version": "3.12.7"
  }
 },
 "nbformat": 4,
 "nbformat_minor": 2
}
